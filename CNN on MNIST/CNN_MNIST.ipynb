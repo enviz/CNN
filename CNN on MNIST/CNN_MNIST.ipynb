{
 "cells": [
  {
   "cell_type": "code",
   "execution_count": 1,
   "metadata": {
    "colab": {
     "base_uri": "https://localhost:8080/",
     "height": 551
    },
    "colab_type": "code",
    "executionInfo": {
     "elapsed": 1970705,
     "status": "ok",
     "timestamp": 1524577821923,
     "user": {
      "displayName": "Applied AI Course",
      "photoUrl": "//lh3.googleusercontent.com/-EsJzSyawCkQ/AAAAAAAAAAI/AAAAAAAAAWk/jhKHALKaHag/s50-c-k-no/photo.jpg",
      "userId": "116292885805316472049"
     },
     "user_tz": -330
    },
    "id": "H9EU0e8yzFOm",
    "outputId": "b9a7331d-3a52-4991-f4a2-eaa64e288eb9"
   },
   "outputs": [
    {
     "name": "stderr",
     "output_type": "stream",
     "text": [
      "Using TensorFlow backend.\n",
      "/home/ubuntu/anaconda3/lib/python3.6/site-packages/tensorflow/python/framework/dtypes.py:516: FutureWarning: Passing (type, 1) or '1type' as a synonym of type is deprecated; in a future version of numpy, it will be understood as (type, (1,)) / '(1,)type'.\n",
      "  _np_qint8 = np.dtype([(\"qint8\", np.int8, 1)])\n",
      "/home/ubuntu/anaconda3/lib/python3.6/site-packages/tensorflow/python/framework/dtypes.py:517: FutureWarning: Passing (type, 1) or '1type' as a synonym of type is deprecated; in a future version of numpy, it will be understood as (type, (1,)) / '(1,)type'.\n",
      "  _np_quint8 = np.dtype([(\"quint8\", np.uint8, 1)])\n",
      "/home/ubuntu/anaconda3/lib/python3.6/site-packages/tensorflow/python/framework/dtypes.py:518: FutureWarning: Passing (type, 1) or '1type' as a synonym of type is deprecated; in a future version of numpy, it will be understood as (type, (1,)) / '(1,)type'.\n",
      "  _np_qint16 = np.dtype([(\"qint16\", np.int16, 1)])\n",
      "/home/ubuntu/anaconda3/lib/python3.6/site-packages/tensorflow/python/framework/dtypes.py:519: FutureWarning: Passing (type, 1) or '1type' as a synonym of type is deprecated; in a future version of numpy, it will be understood as (type, (1,)) / '(1,)type'.\n",
      "  _np_quint16 = np.dtype([(\"quint16\", np.uint16, 1)])\n",
      "/home/ubuntu/anaconda3/lib/python3.6/site-packages/tensorflow/python/framework/dtypes.py:520: FutureWarning: Passing (type, 1) or '1type' as a synonym of type is deprecated; in a future version of numpy, it will be understood as (type, (1,)) / '(1,)type'.\n",
      "  _np_qint32 = np.dtype([(\"qint32\", np.int32, 1)])\n",
      "/home/ubuntu/anaconda3/lib/python3.6/site-packages/tensorflow/python/framework/dtypes.py:525: FutureWarning: Passing (type, 1) or '1type' as a synonym of type is deprecated; in a future version of numpy, it will be understood as (type, (1,)) / '(1,)type'.\n",
      "  np_resource = np.dtype([(\"resource\", np.ubyte, 1)])\n",
      "WARNING: Logging before flag parsing goes to stderr.\n",
      "W0822 16:26:31.635772 139667507078976 __init__.py:308] Limited tf.compat.v2.summary API due to missing TensorBoard installation.\n"
     ]
    }
   ],
   "source": [
    "# Credits: https://github.com/keras-team/keras/blob/master/examples/mnist_cnn.py\n",
    "#importing all then necessary modules\n",
    "\n",
    "from __future__ import print_function\n",
    "import keras\n",
    "from keras.datasets import mnist\n",
    "from keras.models import Sequential\n",
    "\n",
    "from keras.layers import Dense, Dropout, Flatten\n",
    "from keras.layers import Conv2D, MaxPooling2D\n",
    "\n",
    "from tensorflow.keras import backend as K\n"
   ]
  },
  {
   "cell_type": "code",
   "execution_count": 2,
   "metadata": {},
   "outputs": [],
   "source": [
    "batch_size = 128 \n",
    "num_classes = 10\n",
    "epochs = 12\n",
    "\n",
    "# input image dimensions\n",
    "img_rows, img_cols = 28, 28"
   ]
  },
  {
   "cell_type": "code",
   "execution_count": 3,
   "metadata": {},
   "outputs": [],
   "source": [
    "#Train and test split\n",
    "(x_train, y_train), (x_test, y_test) = mnist.load_data()"
   ]
  },
  {
   "cell_type": "code",
   "execution_count": 4,
   "metadata": {},
   "outputs": [
    {
     "name": "stdout",
     "output_type": "stream",
     "text": [
      "x_train shape: (60000, 28, 28, 1)\n",
      "60000 train samples\n",
      "10000 test samples\n"
     ]
    }
   ],
   "source": [
    "if K.image_data_format() == 'channels_first':\n",
    "    x_train = x_train.reshape(x_train.shape[0], 1, img_rows, img_cols)\n",
    "    x_test = x_test.reshape(x_test.shape[0], 1, img_rows, img_cols)\n",
    "    input_shape = (1, img_rows, img_cols)\n",
    "else:\n",
    "    x_train = x_train.reshape(x_train.shape[0], img_rows, img_cols, 1)\n",
    "    x_test = x_test.reshape(x_test.shape[0], img_rows, img_cols, 1)\n",
    "    input_shape = (img_rows, img_cols, 1)\n",
    "\n",
    "x_train = x_train.astype('float32')\n",
    "x_test = x_test.astype('float32')\n",
    "x_train /= 255\n",
    "x_test /= 255\n",
    "print('x_train shape:', x_train.shape)\n",
    "print(x_train.shape[0], 'train samples')\n",
    "print(x_test.shape[0], 'test samples')\n",
    "\n",
    "# convert class vectors to binary class matrices\n",
    "y_train = keras.utils.to_categorical(y_train, num_classes)\n",
    "y_test = keras.utils.to_categorical(y_test, num_classes)"
   ]
  },
  {
   "cell_type": "code",
   "execution_count": 5,
   "metadata": {},
   "outputs": [
    {
     "name": "stdout",
     "output_type": "stream",
     "text": [
      "(60000, 10)\n"
     ]
    }
   ],
   "source": [
    "print(y_train.shape)"
   ]
  },
  {
   "cell_type": "code",
   "execution_count": 6,
   "metadata": {},
   "outputs": [],
   "source": [
    "%matplotlib inline\n",
    "import matplotlib.pyplot as plt\n",
    "import numpy as np\n",
    "import time\n",
    "# https://gist.github.com/greydanus/f6eee59eaf1d90fcb3b534a25362cea4\n",
    "# https://stackoverflow.com/a/14434334\n",
    "# this function is used to update the plots for each epoch and error\n",
    "def plt_dynamic(x, vy, ty):\n",
    "  fig = plt.figure( facecolor='y', edgecolor='k')\n",
    "  plt.plot(x, vy, 'b', label=\"Validation Loss\")\n",
    "  plt.plot(x, ty, 'r', label=\"Train Loss\")\n",
    "  plt.xlabel('Epochs') \n",
    "  plt.ylabel('Categorical Crossentropy Loss')\n",
    "  plt.legend()\n",
    "  plt.grid()\n",
    "  plt.show()"
   ]
  },
  {
   "cell_type": "markdown",
   "metadata": {},
   "source": [
    "## 1 Model 1:CNN with 3 ConvNet & 3x3 kernel size\n"
   ]
  },
  {
   "cell_type": "markdown",
   "metadata": {},
   "source": [
    "### Stack all the layers"
   ]
  },
  {
   "cell_type": "code",
   "execution_count": 7,
   "metadata": {},
   "outputs": [
    {
     "name": "stderr",
     "output_type": "stream",
     "text": [
      "W0822 16:26:44.370091 139667507078976 deprecation_wrapper.py:119] From /home/ubuntu/anaconda3/lib/python3.6/site-packages/keras/backend/tensorflow_backend.py:74: The name tf.get_default_graph is deprecated. Please use tf.compat.v1.get_default_graph instead.\n",
      "\n",
      "W0822 16:26:44.382181 139667507078976 deprecation_wrapper.py:119] From /home/ubuntu/anaconda3/lib/python3.6/site-packages/keras/backend/tensorflow_backend.py:517: The name tf.placeholder is deprecated. Please use tf.compat.v1.placeholder instead.\n",
      "\n",
      "W0822 16:26:44.384397 139667507078976 deprecation_wrapper.py:119] From /home/ubuntu/anaconda3/lib/python3.6/site-packages/keras/backend/tensorflow_backend.py:4138: The name tf.random_uniform is deprecated. Please use tf.random.uniform instead.\n",
      "\n",
      "W0822 16:26:44.404672 139667507078976 deprecation_wrapper.py:119] From /home/ubuntu/anaconda3/lib/python3.6/site-packages/keras/backend/tensorflow_backend.py:133: The name tf.placeholder_with_default is deprecated. Please use tf.compat.v1.placeholder_with_default instead.\n",
      "\n",
      "W0822 16:26:44.409643 139667507078976 deprecation.py:506] From /home/ubuntu/anaconda3/lib/python3.6/site-packages/keras/backend/tensorflow_backend.py:3445: calling dropout (from tensorflow.python.ops.nn_ops) with keep_prob is deprecated and will be removed in a future version.\n",
      "Instructions for updating:\n",
      "Please use `rate` instead of `keep_prob`. Rate should be set to `rate = 1 - keep_prob`.\n",
      "W0822 16:26:44.428561 139667507078976 deprecation_wrapper.py:119] From /home/ubuntu/anaconda3/lib/python3.6/site-packages/keras/backend/tensorflow_backend.py:3976: The name tf.nn.max_pool is deprecated. Please use tf.nn.max_pool2d instead.\n",
      "\n",
      "W0822 16:26:44.447545 139667507078976 deprecation_wrapper.py:119] From /home/ubuntu/anaconda3/lib/python3.6/site-packages/keras/backend/tensorflow_backend.py:4185: The name tf.truncated_normal is deprecated. Please use tf.random.truncated_normal instead.\n",
      "\n"
     ]
    },
    {
     "name": "stdout",
     "output_type": "stream",
     "text": [
      "_________________________________________________________________\n",
      "Layer (type)                 Output Shape              Param #   \n",
      "=================================================================\n",
      "conv2d_1 (Conv2D)            (None, 26, 26, 32)        320       \n",
      "_________________________________________________________________\n",
      "conv2d_2 (Conv2D)            (None, 24, 24, 64)        18496     \n",
      "_________________________________________________________________\n",
      "dropout_1 (Dropout)          (None, 24, 24, 64)        0         \n",
      "_________________________________________________________________\n",
      "conv2d_3 (Conv2D)            (None, 22, 22, 128)       73856     \n",
      "_________________________________________________________________\n",
      "max_pooling2d_1 (MaxPooling2 (None, 11, 11, 128)       0         \n",
      "_________________________________________________________________\n",
      "dropout_2 (Dropout)          (None, 11, 11, 128)       0         \n",
      "_________________________________________________________________\n",
      "flatten_1 (Flatten)          (None, 15488)             0         \n",
      "_________________________________________________________________\n",
      "dense_1 (Dense)              (None, 256)               3965184   \n",
      "_________________________________________________________________\n",
      "dropout_3 (Dropout)          (None, 256)               0         \n",
      "_________________________________________________________________\n",
      "dense_2 (Dense)              (None, 10)                2570      \n",
      "=================================================================\n",
      "Total params: 4,060,426\n",
      "Trainable params: 4,060,426\n",
      "Non-trainable params: 0\n",
      "_________________________________________________________________\n",
      "None\n"
     ]
    }
   ],
   "source": [
    "from keras.initializers import he_normal\n",
    "\n",
    "convnet3=Sequential() # Initializing the model\n",
    "\n",
    "# First ConvNet\n",
    "convnet3.add(Conv2D(32,kernel_size=(3,3),\n",
    "                    activation='relu',\n",
    "                    input_shape=input_shape))\n",
    "\n",
    "convnet3.add(Conv2D(64,kernel_size=(3,3),\n",
    "                    activation='relu'))\n",
    "\n",
    "convnet3.add(Dropout(0.25))\n",
    "\n",
    "convnet3.add(Conv2D(128,kernel_size=(3,3),\n",
    "                   activation='relu'))\n",
    "#maxpooling by (2,2 ) ,dropout,flattening\n",
    "convnet3.add(MaxPooling2D(pool_size=(2,2)))\n",
    "convnet3.add(Dropout(0.25))\n",
    "convnet3.add(Flatten())\n",
    "\n",
    "#hidden_layer\n",
    "convnet3.add(Dense(256,\n",
    "                   activation='relu',\n",
    "                   kernel_initializer=he_normal(seed=None)))\n",
    "convnet3.add(Dropout(0.5))\n",
    "convnet3.add(Dense(num_classes,activation='softmax'))\n",
    "print(convnet3.summary())\n"
   ]
  },
  {
   "cell_type": "markdown",
   "metadata": {},
   "source": [
    "### Model compile and fit"
   ]
  },
  {
   "cell_type": "code",
   "execution_count": 8,
   "metadata": {},
   "outputs": [
    {
     "name": "stderr",
     "output_type": "stream",
     "text": [
      "W0822 16:26:49.448583 139667507078976 deprecation_wrapper.py:119] From /home/ubuntu/anaconda3/lib/python3.6/site-packages/keras/optimizers.py:790: The name tf.train.Optimizer is deprecated. Please use tf.compat.v1.train.Optimizer instead.\n",
      "\n",
      "W0822 16:26:49.554800 139667507078976 deprecation.py:323] From /home/ubuntu/anaconda3/lib/python3.6/site-packages/tensorflow/python/ops/math_grad.py:1250: add_dispatch_support.<locals>.wrapper (from tensorflow.python.ops.array_ops) is deprecated and will be removed in a future version.\n",
      "Instructions for updating:\n",
      "Use tf.where in 2.0, which has the same broadcast rule as np.where\n"
     ]
    },
    {
     "name": "stdout",
     "output_type": "stream",
     "text": [
      "Train on 60000 samples, validate on 10000 samples\n",
      "Epoch 1/12\n",
      "60000/60000 [==============================] - 159s 3ms/step - loss: 0.1732 - acc: 0.9469 - val_loss: 0.0385 - val_acc: 0.9878\n",
      "Epoch 2/12\n",
      "60000/60000 [==============================] - 145s 2ms/step - loss: 0.0592 - acc: 0.9818 - val_loss: 0.0319 - val_acc: 0.9886\n",
      "Epoch 3/12\n",
      "60000/60000 [==============================] - 143s 2ms/step - loss: 0.0431 - acc: 0.9866 - val_loss: 0.0273 - val_acc: 0.9910\n",
      "Epoch 4/12\n",
      "60000/60000 [==============================] - 142s 2ms/step - loss: 0.0360 - acc: 0.9887 - val_loss: 0.0222 - val_acc: 0.9930\n",
      "Epoch 5/12\n",
      "60000/60000 [==============================] - 143s 2ms/step - loss: 0.0290 - acc: 0.9911 - val_loss: 0.0234 - val_acc: 0.9931\n",
      "Epoch 6/12\n",
      "60000/60000 [==============================] - 142s 2ms/step - loss: 0.0249 - acc: 0.9922 - val_loss: 0.0285 - val_acc: 0.9910\n",
      "Epoch 7/12\n",
      "60000/60000 [==============================] - 141s 2ms/step - loss: 0.0216 - acc: 0.9931 - val_loss: 0.0251 - val_acc: 0.9926\n",
      "Epoch 8/12\n",
      "60000/60000 [==============================] - 142s 2ms/step - loss: 0.0200 - acc: 0.9936 - val_loss: 0.0226 - val_acc: 0.9934\n",
      "Epoch 9/12\n",
      "60000/60000 [==============================] - 143s 2ms/step - loss: 0.0162 - acc: 0.9949 - val_loss: 0.0257 - val_acc: 0.9930\n",
      "Epoch 10/12\n",
      "60000/60000 [==============================] - 140s 2ms/step - loss: 0.0161 - acc: 0.9948 - val_loss: 0.0254 - val_acc: 0.9937\n",
      "Epoch 11/12\n",
      "60000/60000 [==============================] - 140s 2ms/step - loss: 0.0136 - acc: 0.9951 - val_loss: 0.0219 - val_acc: 0.9934\n",
      "Epoch 12/12\n",
      "60000/60000 [==============================] - 142s 2ms/step - loss: 0.0145 - acc: 0.9954 - val_loss: 0.0214 - val_acc: 0.9932\n"
     ]
    }
   ],
   "source": [
    "#Model compilation\n",
    "convnet3.compile(optimizer=keras.optimizers.Adam(),\n",
    "                loss=keras.losses.categorical_crossentropy,\n",
    "                metrics=['accuracy'])\n",
    "convnet3_history=convnet3.fit(x_train,y_train,batch_size=batch_size,\n",
    "                             epochs=epochs,\n",
    "                             verbose=1,\n",
    "                             validation_data=(x_test, y_test))"
   ]
  },
  {
   "cell_type": "markdown",
   "metadata": {},
   "source": [
    "### Evaluating model 1"
   ]
  },
  {
   "cell_type": "code",
   "execution_count": 9,
   "metadata": {},
   "outputs": [
    {
     "name": "stdout",
     "output_type": "stream",
     "text": [
      "test score : 0.021412627242445616\n",
      "test sccuracy : 0.9932\n"
     ]
    },
    {
     "data": {
      "image/png": "[encoded data removed]",
      "text/plain": [
       "<Figure size 432x288 with 1 Axes>"
      ]
     },
     "metadata": {},
     "output_type": "display_data"
    }
   ],
   "source": [
    "#evaluating model\n",
    "\n",
    "score=convnet3.evaluate(x_test,y_test,verbose=0)\n",
    "test_score3=score[0]\n",
    "test_accuracy3=score[1]\n",
    "train_accuracy3=max(convnet3_history.history['acc'])\n",
    "print('test score :',test_score3)\n",
    "print('test sccuracy :',test_accuracy3)\n",
    "# error plot\n",
    "x=list(range(1,epochs+1))\n",
    "vy=convnet3_history.history['val_loss'] #validation loss\n",
    "ty=convnet3_history.history['loss'] # train loss\n",
    "plt_dynamic(x, vy, ty)"
   ]
  },
  {
   "cell_type": "markdown",
   "metadata": {},
   "source": [
    "### Changing dropout layer to 0.5"
   ]
  },
  {
   "cell_type": "markdown",
   "metadata": {},
   "source": [
    "### Stack all the layers"
   ]
  },
  {
   "cell_type": "code",
   "execution_count": 10,
   "metadata": {},
   "outputs": [
    {
     "name": "stdout",
     "output_type": "stream",
     "text": [
      "_________________________________________________________________\n",
      "Layer (type)                 Output Shape              Param #   \n",
      "=================================================================\n",
      "conv2d_4 (Conv2D)            (None, 26, 26, 32)        320       \n",
      "_________________________________________________________________\n",
      "conv2d_5 (Conv2D)            (None, 24, 24, 64)        18496     \n",
      "_________________________________________________________________\n",
      "dropout_4 (Dropout)          (None, 24, 24, 64)        0         \n",
      "_________________________________________________________________\n",
      "conv2d_6 (Conv2D)            (None, 22, 22, 128)       73856     \n",
      "_________________________________________________________________\n",
      "max_pooling2d_2 (MaxPooling2 (None, 11, 11, 128)       0         \n",
      "_________________________________________________________________\n",
      "dropout_5 (Dropout)          (None, 11, 11, 128)       0         \n",
      "_________________________________________________________________\n",
      "flatten_2 (Flatten)          (None, 15488)             0         \n",
      "_________________________________________________________________\n",
      "dense_3 (Dense)              (None, 256)               3965184   \n",
      "_________________________________________________________________\n",
      "dropout_6 (Dropout)          (None, 256)               0         \n",
      "_________________________________________________________________\n",
      "dense_4 (Dense)              (None, 10)                2570      \n",
      "=================================================================\n",
      "Total params: 4,060,426\n",
      "Trainable params: 4,060,426\n",
      "Non-trainable params: 0\n",
      "_________________________________________________________________\n",
      "None\n"
     ]
    }
   ],
   "source": [
    "from keras.initializers import he_normal\n",
    "\n",
    "convnet3=Sequential() # Initializing the model\n",
    "\n",
    "# First ConvNet\n",
    "convnet3.add(Conv2D(32,kernel_size=(3,3),\n",
    "                    activation='relu',\n",
    "                    input_shape=input_shape))\n",
    "\n",
    "convnet3.add(Conv2D(64,kernel_size=(3,3),\n",
    "                    activation='relu'))\n",
    "\n",
    "convnet3.add(Dropout(0.5))\n",
    "\n",
    "convnet3.add(Conv2D(128,kernel_size=(3,3),\n",
    "                   activation='relu'))\n",
    "#maxpooling by (2,2 ) ,dropout,flattening\n",
    "convnet3.add(MaxPooling2D(pool_size=(2,2)))\n",
    "convnet3.add(Dropout(0.5))\n",
    "convnet3.add(Flatten())\n",
    "\n",
    "#hidden_layer\n",
    "convnet3.add(Dense(256,\n",
    "                   activation='relu',\n",
    "                   kernel_initializer=he_normal(seed=None)))\n",
    "convnet3.add(Dropout(0.5))\n",
    "convnet3.add(Dense(num_classes,activation='softmax'))\n",
    "print(convnet3.summary())\n"
   ]
  },
  {
   "cell_type": "markdown",
   "metadata": {},
   "source": [
    "### Model compile and fit"
   ]
  },
  {
   "cell_type": "code",
   "execution_count": 11,
   "metadata": {},
   "outputs": [
    {
     "name": "stdout",
     "output_type": "stream",
     "text": [
      "Train on 60000 samples, validate on 10000 samples\n",
      "Epoch 1/12\n",
      "60000/60000 [==============================] - 146s 2ms/step - loss: 0.2067 - acc: 0.9364 - val_loss: 0.0518 - val_acc: 0.9831\n",
      "Epoch 2/12\n",
      "60000/60000 [==============================] - 156s 3ms/step - loss: 0.0734 - acc: 0.9775 - val_loss: 0.0333 - val_acc: 0.9887\n",
      "Epoch 3/12\n",
      "60000/60000 [==============================] - 151s 3ms/step - loss: 0.0562 - acc: 0.9829 - val_loss: 0.0294 - val_acc: 0.9904\n",
      "Epoch 4/12\n",
      "60000/60000 [==============================] - 155s 3ms/step - loss: 0.0489 - acc: 0.9851 - val_loss: 0.0246 - val_acc: 0.9906\n",
      "Epoch 5/12\n",
      "60000/60000 [==============================] - 147s 2ms/step - loss: 0.0439 - acc: 0.9867 - val_loss: 0.0244 - val_acc: 0.9914\n",
      "Epoch 6/12\n",
      "60000/60000 [==============================] - 149s 2ms/step - loss: 0.0382 - acc: 0.9880 - val_loss: 0.0243 - val_acc: 0.9914\n",
      "Epoch 7/12\n",
      "60000/60000 [==============================] - 159s 3ms/step - loss: 0.0328 - acc: 0.9899 - val_loss: 0.0217 - val_acc: 0.9931\n",
      "Epoch 8/12\n",
      "60000/60000 [==============================] - 153s 3ms/step - loss: 0.0310 - acc: 0.9907 - val_loss: 0.0229 - val_acc: 0.9922\n",
      "Epoch 9/12\n",
      "60000/60000 [==============================] - 147s 2ms/step - loss: 0.0287 - acc: 0.9913 - val_loss: 0.0214 - val_acc: 0.9929\n",
      "Epoch 10/12\n",
      "60000/60000 [==============================] - 140s 2ms/step - loss: 0.0274 - acc: 0.9916 - val_loss: 0.0213 - val_acc: 0.9929\n",
      "Epoch 11/12\n",
      "60000/60000 [==============================] - 141s 2ms/step - loss: 0.0251 - acc: 0.9921 - val_loss: 0.0244 - val_acc: 0.9926\n",
      "Epoch 12/12\n",
      "60000/60000 [==============================] - 150s 3ms/step - loss: 0.0248 - acc: 0.9919 - val_loss: 0.0189 - val_acc: 0.9939\n"
     ]
    }
   ],
   "source": [
    "#Model compilation\n",
    "convnet3.compile(optimizer=keras.optimizers.Adam(),\n",
    "                loss=keras.losses.categorical_crossentropy,\n",
    "                metrics=['accuracy'])\n",
    "convnet3_history=convnet3.fit(x_train,y_train,batch_size=batch_size,\n",
    "                             epochs=epochs,\n",
    "                             verbose=1,\n",
    "                             validation_data=(x_test, y_test))"
   ]
  },
  {
   "cell_type": "markdown",
   "metadata": {},
   "source": [
    "## 2 Model2:CNN with 5 ConvNet & kernel_size=(5x5)\n",
    "\n",
    "\n",
    "5 convNet  followed by maxpooling(2,2) and dropout"
   ]
  },
  {
   "cell_type": "markdown",
   "metadata": {},
   "source": [
    "### Stack all the layers"
   ]
  },
  {
   "cell_type": "code",
   "execution_count": 15,
   "metadata": {},
   "outputs": [
    {
     "name": "stdout",
     "output_type": "stream",
     "text": [
      "Train on 60000 samples, validate on 10000 samples\n",
      "Epoch 1/12\n",
      "60000/60000 [==============================] - 197s 3ms/step - loss: 2.0155 - acc: 0.3283 - val_loss: 1.2187 - val_acc: 0.5339\n",
      "Epoch 2/12\n",
      "60000/60000 [==============================] - 196s 3ms/step - loss: 0.8122 - acc: 0.7284 - val_loss: 0.5395 - val_acc: 0.8113\n",
      "Epoch 3/12\n",
      "60000/60000 [==============================] - 195s 3ms/step - loss: 0.4990 - acc: 0.8431 - val_loss: 0.2906 - val_acc: 0.9070\n",
      "Epoch 4/12\n",
      "60000/60000 [==============================] - 195s 3ms/step - loss: 0.3683 - acc: 0.8870 - val_loss: 0.2283 - val_acc: 0.9252\n",
      "Epoch 5/12\n",
      "60000/60000 [==============================] - 195s 3ms/step - loss: 0.2737 - acc: 0.9175 - val_loss: 0.1676 - val_acc: 0.9442\n",
      "Epoch 6/12\n",
      "60000/60000 [==============================] - 197s 3ms/step - loss: 0.3061 - acc: 0.9074 - val_loss: 0.2101 - val_acc: 0.9360\n",
      "Epoch 7/12\n",
      "60000/60000 [==============================] - 217s 4ms/step - loss: 0.2533 - acc: 0.9240 - val_loss: 0.1378 - val_acc: 0.9536\n",
      "Epoch 8/12\n",
      "60000/60000 [==============================] - 211s 4ms/step - loss: 0.1719 - acc: 0.9493 - val_loss: 0.0789 - val_acc: 0.9747\n",
      "Epoch 9/12\n",
      "60000/60000 [==============================] - 214s 4ms/step - loss: 0.1429 - acc: 0.9585 - val_loss: 0.0782 - val_acc: 0.9751\n",
      "Epoch 10/12\n",
      "60000/60000 [==============================] - 203s 3ms/step - loss: 0.1213 - acc: 0.9641 - val_loss: 0.0555 - val_acc: 0.9815\n",
      "Epoch 11/12\n",
      "60000/60000 [==============================] - 214s 4ms/step - loss: 0.1036 - acc: 0.9693 - val_loss: 0.0577 - val_acc: 0.9827\n",
      "Epoch 12/12\n",
      "60000/60000 [==============================] - 208s 3ms/step - loss: 0.0915 - acc: 0.9727 - val_loss: 0.0395 - val_acc: 0.9876\n",
      "Time taken : 0:40:40.582326\n"
     ]
    }
   ],
   "source": [
    "#Model compilation\n",
    "from datetime import datetime\n",
    "start = datetime.now()\n",
    "convnet5.compile(optimizer=keras.optimizers.Adam(),\n",
    "                loss=keras.losses.categorical_crossentropy,\n",
    "                metrics=['accuracy'])\n",
    "convnet5_history=convnet5.fit(x_train,y_train,batch_size=batch_size,\n",
    "                             epochs=epochs,\n",
    "                             verbose=1,\n",
    "                             validation_data=(x_test, y_test))\n",
    "print(\"Time taken :\", datetime.now() - start)"
   ]
  },
  {
   "cell_type": "markdown",
   "metadata": {},
   "source": [
    "### Model compile and fit"
   ]
  },
  {
   "cell_type": "code",
   "execution_count": 13,
   "metadata": {},
   "outputs": [
    {
     "name": "stdout",
     "output_type": "stream",
     "text": [
      "_________________________________________________________________\n",
      "Layer (type)                 Output Shape              Param #   \n",
      "=================================================================\n",
      "conv2d_12 (Conv2D)           (None, 28, 28, 32)        832       \n",
      "_________________________________________________________________\n",
      "conv2d_13 (Conv2D)           (None, 28, 28, 64)        51264     \n",
      "_________________________________________________________________\n",
      "max_pooling2d_7 (MaxPooling2 (None, 14, 14, 64)        0         \n",
      "_________________________________________________________________\n",
      "dropout_11 (Dropout)         (None, 14, 14, 64)        0         \n",
      "_________________________________________________________________\n",
      "conv2d_14 (Conv2D)           (None, 14, 14, 96)        153696    \n",
      "_________________________________________________________________\n",
      "max_pooling2d_8 (MaxPooling2 (None, 7, 7, 96)          0         \n",
      "_________________________________________________________________\n",
      "dropout_12 (Dropout)         (None, 7, 7, 96)          0         \n",
      "_________________________________________________________________\n",
      "conv2d_15 (Conv2D)           (None, 7, 7, 128)         307328    \n",
      "_________________________________________________________________\n",
      "max_pooling2d_9 (MaxPooling2 (None, 3, 3, 128)         0         \n",
      "_________________________________________________________________\n",
      "dropout_13 (Dropout)         (None, 3, 3, 128)         0         \n",
      "_________________________________________________________________\n",
      "conv2d_16 (Conv2D)           (None, 3, 3, 164)         524964    \n",
      "_________________________________________________________________\n",
      "max_pooling2d_10 (MaxPooling (None, 1, 1, 164)         0         \n",
      "_________________________________________________________________\n",
      "dropout_14 (Dropout)         (None, 1, 1, 164)         0         \n",
      "_________________________________________________________________\n",
      "flatten_4 (Flatten)          (None, 164)               0         \n",
      "_________________________________________________________________\n",
      "dense_6 (Dense)              (None, 256)               42240     \n",
      "_________________________________________________________________\n",
      "batch_normalization_1 (Batch (None, 256)               1024      \n",
      "_________________________________________________________________\n",
      "dropout_15 (Dropout)         (None, 256)               0         \n",
      "_________________________________________________________________\n",
      "dense_7 (Dense)              (None, 10)                2570      \n",
      "=================================================================\n",
      "Total params: 1,083,918\n",
      "Trainable params: 1,083,406\n",
      "Non-trainable params: 512\n",
      "_________________________________________________________________\n",
      "None\n"
     ]
    }
   ],
   "source": [
    "from keras.layers.normalization import BatchNormalization\n",
    "convnet5=Sequential() # Initializing the model\n",
    "\n",
    "# First ConvNet\n",
    "convnet5.add(Conv2D(32,kernel_size=(5,5),\n",
    "                    activation='relu',\n",
    "                    padding='same',\n",
    "                    input_shape=input_shape))\n",
    "\n",
    "convnet5.add(Conv2D(64,kernel_size=(5,5),\n",
    "                    padding='same',\n",
    "                    activation='relu'))#Second Convnet\n",
    "convnet5.add(MaxPooling2D(pool_size=(2,2)))\n",
    "convnet5.add(Dropout(0.25))\n",
    "\n",
    "convnet5.add(Conv2D(96,kernel_size=(5,5),\n",
    "                    padding='same',\n",
    "                   activation='relu'))  # 3rd ConvNet\n",
    "#maxpooling by (2,2 ) ,dropout,flattening\n",
    "convnet5.add(MaxPooling2D(pool_size=(2,2)))\n",
    "convnet5.add(Dropout(0.25))\n",
    "\n",
    "convnet5.add(Conv2D(128,kernel_size=(5,5),\n",
    "                    padding='same',\n",
    "                    activation='relu'))#fourth Convnet\n",
    "convnet5.add(MaxPooling2D(pool_size=(2,2)))\n",
    "convnet5.add(Dropout(0.25))\n",
    "convnet5.add(Conv2D(164,kernel_size=(5,5),\n",
    "                    padding='same',\n",
    "                    activation='relu'))#fifth Convnet\n",
    "convnet5.add(MaxPooling2D(pool_size=(2,2)))\n",
    "convnet5.add(Dropout(0.25))\n",
    "convnet5.add(Flatten())\n",
    "\n",
    "#hidden_layer\n",
    "convnet5.add(Dense(256,\n",
    "                   activation='relu',\n",
    "                   kernel_initializer=he_normal(seed=None)))\n",
    "convnet5.add(BatchNormalization())\n",
    "convnet5.add(Dropout(0.5))\n",
    "convnet5.add(Dense(num_classes,activation='softmax'))\n",
    "print(convnet5.summary())\n"
   ]
  },
  {
   "cell_type": "markdown",
   "metadata": {},
   "source": [
    "### Evalutating Model 2"
   ]
  },
  {
   "cell_type": "code",
   "execution_count": 16,
   "metadata": {},
   "outputs": [
    {
     "name": "stdout",
     "output_type": "stream",
     "text": [
      "test score : 0.03953570005786605\n",
      "test Accuracy : 0.9876\n"
     ]
    },
    {
     "data": {
      "image/png": "[encoded data removed]",
      "text/plain": [
       "<Figure size 432x288 with 1 Axes>"
      ]
     },
     "metadata": {},
     "output_type": "display_data"
    }
   ],
   "source": [
    "#evaluating model\n",
    "score=convnet5.evaluate(x_test,y_test,verbose=0)\n",
    "test_score5=score[0]\n",
    "test_accuracy5=score[1]\n",
    "train_accuracy5=max(convnet5_history.history['acc'])\n",
    "print('test score :',test_score5)\n",
    "print('test Accuracy :',test_accuracy5)\n",
    "# error plot\n",
    "x=list(range(1,epochs+1))\n",
    "vy=convnet5_history.history['val_loss'] #validation loss\n",
    "ty=convnet5_history.history['loss'] # train loss\n",
    "plt_dynamic(x, vy, ty)\n",
    "\n",
    "\n",
    "\n"
   ]
  },
  {
   "cell_type": "markdown",
   "metadata": {},
   "source": [
    "## 3 Model3:CNN with 7 ConvNet & kernel_size=(2x2)\n",
    "\n",
    "\n",
    "5 convNet  followed by maxpooling(2,2) and dropout"
   ]
  },
  {
   "cell_type": "markdown",
   "metadata": {},
   "source": [
    "### Stack all the layers"
   ]
  },
  {
   "cell_type": "code",
   "execution_count": 17,
   "metadata": {},
   "outputs": [
    {
     "name": "stdout",
     "output_type": "stream",
     "text": [
      "_________________________________________________________________\n",
      "Layer (type)                 Output Shape              Param #   \n",
      "=================================================================\n",
      "conv2d_17 (Conv2D)           (None, 28, 28, 16)        80        \n",
      "_________________________________________________________________\n",
      "conv2d_18 (Conv2D)           (None, 14, 14, 32)        2080      \n",
      "_________________________________________________________________\n",
      "conv2d_19 (Conv2D)           (None, 14, 14, 64)        8256      \n",
      "_________________________________________________________________\n",
      "dropout_16 (Dropout)         (None, 14, 14, 64)        0         \n",
      "_________________________________________________________________\n",
      "conv2d_20 (Conv2D)           (None, 14, 14, 96)        24672     \n",
      "_________________________________________________________________\n",
      "max_pooling2d_11 (MaxPooling (None, 7, 7, 96)          0         \n",
      "_________________________________________________________________\n",
      "dropout_17 (Dropout)         (None, 7, 7, 96)          0         \n",
      "_________________________________________________________________\n",
      "conv2d_21 (Conv2D)           (None, 7, 7, 128)         49280     \n",
      "_________________________________________________________________\n",
      "max_pooling2d_12 (MaxPooling (None, 3, 3, 128)         0         \n",
      "_________________________________________________________________\n",
      "dropout_18 (Dropout)         (None, 3, 3, 128)         0         \n",
      "_________________________________________________________________\n",
      "conv2d_22 (Conv2D)           (None, 3, 3, 164)         84132     \n",
      "_________________________________________________________________\n",
      "conv2d_23 (Conv2D)           (None, 3, 3, 164)         107748    \n",
      "_________________________________________________________________\n",
      "max_pooling2d_13 (MaxPooling (None, 1, 1, 164)         0         \n",
      "_________________________________________________________________\n",
      "dropout_19 (Dropout)         (None, 1, 1, 164)         0         \n",
      "_________________________________________________________________\n",
      "flatten_5 (Flatten)          (None, 164)               0         \n",
      "_________________________________________________________________\n",
      "dense_8 (Dense)              (None, 256)               42240     \n",
      "_________________________________________________________________\n",
      "batch_normalization_2 (Batch (None, 256)               1024      \n",
      "_________________________________________________________________\n",
      "dropout_20 (Dropout)         (None, 256)               0         \n",
      "_________________________________________________________________\n",
      "dense_9 (Dense)              (None, 148)               38036     \n",
      "_________________________________________________________________\n",
      "batch_normalization_3 (Batch (None, 148)               592       \n",
      "_________________________________________________________________\n",
      "dropout_21 (Dropout)         (None, 148)               0         \n",
      "_________________________________________________________________\n",
      "dense_10 (Dense)             (None, 128)               19072     \n",
      "_________________________________________________________________\n",
      "batch_normalization_4 (Batch (None, 128)               512       \n",
      "_________________________________________________________________\n",
      "dropout_22 (Dropout)         (None, 128)               0         \n",
      "_________________________________________________________________\n",
      "dense_11 (Dense)             (None, 10)                1290      \n",
      "=================================================================\n",
      "Total params: 379,014\n",
      "Trainable params: 377,950\n",
      "Non-trainable params: 1,064\n",
      "_________________________________________________________________\n",
      "None\n"
     ]
    }
   ],
   "source": [
    "convnet7=Sequential() # Initializing the model\n",
    "\n",
    "# First ConvNet\n",
    "convnet7.add(Conv2D(16,kernel_size=(2,2),\n",
    "                    activation='relu',\n",
    "                    padding='same',strides=(1,1),\n",
    "                    input_shape=input_shape))\n",
    "\n",
    "\n",
    "convnet7.add(Conv2D(32,kernel_size=(2,2),\n",
    "                    padding='same',strides=(2,2),\n",
    "                    activation='relu'))#Second Convnet\n",
    "#convnet7.add(MaxPooling2D(pool_size=(2,2)))\n",
    "#convnet7.add(Dropout(0.25))\n",
    "\n",
    "convnet7.add(Conv2D(64,kernel_size=(2,2),\n",
    "                    padding='same',\n",
    "                   activation='relu'))  # 3rd ConvNet\n",
    "#maxpooling by (2,2 ) ,dropout,flattening\n",
    "#convnet7.add(MaxPooling2D(pool_size=(2,2)))\n",
    "convnet7.add(Dropout(0.15))\n",
    "\n",
    "convnet7.add(Conv2D(96,kernel_size=(2,2),\n",
    "                    padding='same',\n",
    "                    activation='relu'))#fourth Convnet\n",
    "convnet7.add(MaxPooling2D(pool_size=(2,2)))\n",
    "convnet7.add(Dropout(0.39))\n",
    "convnet7.add(Conv2D(128,kernel_size=(2,2),\n",
    "                    padding='same',\n",
    "                    activation='relu'))#fifth Convnet\n",
    "convnet7.add(MaxPooling2D(pool_size=(2,2)))\n",
    "convnet7.add(Dropout(0.3))\n",
    "convnet7.add(Conv2D(164,kernel_size=(2,2),\n",
    "                    padding='same',\n",
    "                    activation='relu'))#sixth Convnet\n",
    "convnet7.add(Conv2D(164,kernel_size=(2,2),\n",
    "                    padding='same',strides=(1,1),\n",
    "                    activation='relu'))#seventh Convnet\n",
    "\n",
    "convnet7.add(MaxPooling2D(pool_size=(2,2)))\n",
    "convnet7.add(Dropout(0.4))\n",
    "convnet7.add(Flatten())\n",
    "\n",
    "#hidden_layer\n",
    "convnet7.add(Dense(256,\n",
    "                   activation='relu',\n",
    "                   kernel_initializer=he_normal(seed=None)))#1 hidden layer\n",
    "convnet7.add(BatchNormalization())\n",
    "convnet7.add(Dropout(0.5))\n",
    "convnet7.add(Dense(148,\n",
    "                   activation='relu',\n",
    "                   kernel_initializer=he_normal(seed=None)))#2 hidden layer\n",
    "convnet7.add(BatchNormalization())\n",
    "convnet7.add(Dropout(0.5))\n",
    "convnet7.add(Dense(128,\n",
    "                   activation='relu',\n",
    "                   kernel_initializer=he_normal(seed=None)))#3 hidden layer\n",
    "convnet7.add(BatchNormalization())\n",
    "convnet7.add(Dropout(0.5))\n",
    "convnet7.add(Dense(num_classes,activation='softmax'))\n",
    "print(convnet7.summary())\n"
   ]
  },
  {
   "cell_type": "markdown",
   "metadata": {},
   "source": [
    "### Model compile and fit"
   ]
  },
  {
   "cell_type": "code",
   "execution_count": 18,
   "metadata": {},
   "outputs": [
    {
     "name": "stdout",
     "output_type": "stream",
     "text": [
      "Train on 60000 samples, validate on 10000 samples\n",
      "Epoch 1/12\n",
      "60000/60000 [==============================] - 42s 708us/step - loss: 1.8053 - acc: 0.4127 - val_loss: 0.7215 - val_acc: 0.7612\n",
      "Epoch 2/12\n",
      "60000/60000 [==============================] - 39s 655us/step - loss: 0.3991 - acc: 0.8855 - val_loss: 0.1137 - val_acc: 0.9732\n",
      "Epoch 3/12\n",
      "60000/60000 [==============================] - 40s 664us/step - loss: 0.1916 - acc: 0.9501 - val_loss: 0.0509 - val_acc: 0.9869\n",
      "Epoch 4/12\n",
      "60000/60000 [==============================] - 44s 738us/step - loss: 0.1405 - acc: 0.9647 - val_loss: 0.0498 - val_acc: 0.9869\n",
      "Epoch 5/12\n",
      "60000/60000 [==============================] - 44s 737us/step - loss: 0.1177 - acc: 0.9714 - val_loss: 0.0368 - val_acc: 0.9905\n",
      "Epoch 6/12\n",
      "60000/60000 [==============================] - 44s 732us/step - loss: 0.1013 - acc: 0.9755 - val_loss: 0.0398 - val_acc: 0.9906\n",
      "Epoch 7/12\n",
      "60000/60000 [==============================] - 43s 713us/step - loss: 0.0841 - acc: 0.9792 - val_loss: 0.0415 - val_acc: 0.9907\n",
      "Epoch 8/12\n",
      "60000/60000 [==============================] - 42s 701us/step - loss: 0.0798 - acc: 0.9811 - val_loss: 0.0330 - val_acc: 0.9920\n",
      "Epoch 9/12\n",
      "60000/60000 [==============================] - 39s 646us/step - loss: 0.0749 - acc: 0.9822 - val_loss: 0.0332 - val_acc: 0.9920\n",
      "Epoch 10/12\n",
      "60000/60000 [==============================] - 39s 643us/step - loss: 0.0709 - acc: 0.9826 - val_loss: 0.0316 - val_acc: 0.9930\n",
      "Epoch 11/12\n",
      "60000/60000 [==============================] - 38s 641us/step - loss: 0.0676 - acc: 0.9834 - val_loss: 0.0277 - val_acc: 0.9927\n",
      "Epoch 12/12\n",
      "60000/60000 [==============================] - 40s 673us/step - loss: 0.0617 - acc: 0.9852 - val_loss: 0.0312 - val_acc: 0.9929\n",
      "Time taken : 0:08:16.112077\n"
     ]
    }
   ],
   "source": [
    "start=datetime.now()\n",
    "convnet7.compile(optimizer=keras.optimizers.Adam(),\n",
    "                loss=keras.losses.categorical_crossentropy,\n",
    "                metrics=['accuracy'])\n",
    "convnet7_history=convnet7.fit(x_train,y_train,batch_size=batch_size,\n",
    "                             epochs=epochs,\n",
    "                             verbose=1,\n",
    "                             validation_data=(x_test, y_test))\n",
    "print(\"Time taken :\", datetime.now() - start)"
   ]
  },
  {
   "cell_type": "markdown",
   "metadata": {},
   "source": [
    "### Evaluating Model 3"
   ]
  },
  {
   "cell_type": "code",
   "execution_count": 19,
   "metadata": {},
   "outputs": [
    {
     "name": "stdout",
     "output_type": "stream",
     "text": [
      "test score : 0.031180126290989575\n",
      "test Accuracy : 0.9929\n"
     ]
    },
    {
     "data": {
      "image/png": "[encoded data removed]",
      "text/plain": [
       "<Figure size 432x288 with 1 Axes>"
      ]
     },
     "metadata": {},
     "output_type": "display_data"
    }
   ],
   "source": [
    "#evaluating model\n",
    "score=convnet7.evaluate(x_test,y_test,verbose=0)\n",
    "test_score7=score[0]\n",
    "test_accuracy7=score[1]\n",
    "train_accuracy7=max(convnet7_history.history['acc'])\n",
    "print('test score :',test_score7)\n",
    "print('test Accuracy :',test_accuracy7)\n",
    "# error plot\n",
    "x=list(range(1,epochs+1))\n",
    "vy=convnet7_history.history['val_loss'] #validation loss\n",
    "ty=convnet7_history.history['loss'] # train loss\n",
    "plt_dynamic(x, vy, ty)"
   ]
  },
  {
   "cell_type": "markdown",
   "metadata": {},
   "source": [
    "### Summarizing the performance of all the above models using PrettyTable"
   ]
  },
  {
   "cell_type": "code",
   "execution_count": 20,
   "metadata": {},
   "outputs": [
    {
     "name": "stdout",
     "output_type": "stream",
     "text": [
      "+--------+--------------------------+--------------------+------------------+\n",
      "| INDEX. |        MODEL_NAME        | TRAINING ACCURACY  | TESTING ACCURACY |\n",
      "+--------+--------------------------+--------------------+------------------+\n",
      "|   1    | 3ConvNet with kernel 3x3 | 0.9954499999682108 |      0.9932      |\n",
      "|   2    | 5ConvNet with kernel 5x5 | 0.9727000000317891 |      0.9876      |\n",
      "|   3    | 7ConvNet with kernel 2x2 |       0.9852       |      0.9929      |\n",
      "+--------+--------------------------+--------------------+------------------+\n"
     ]
    }
   ],
   "source": [
    "from prettytable import PrettyTable\n",
    "models=['3ConvNet with kernel 3x3',\n",
    "        '5ConvNet with kernel 5x5',\n",
    "        '7ConvNet with kernel 2x2']\n",
    "training_accuracy=[train_accuracy3,train_accuracy5,train_accuracy7]\n",
    "test_accuracy=[test_accuracy3,test_accuracy5,test_accuracy7]\n",
    "INDEX = [1,2,3]\n",
    "# Initializing prettytable\n",
    "Model_Performance = PrettyTable()\n",
    "# Adding columns\n",
    "Model_Performance.add_column(\"INDEX.\",INDEX)\n",
    "Model_Performance.add_column(\"MODEL_NAME\",models)\n",
    "Model_Performance.add_column(\"TRAINING ACCURACY\",training_accuracy)\n",
    "Model_Performance.add_column(\"TESTING ACCURACY\",test_accuracy)\n",
    "\n",
    "\n",
    "# Printing the Model_Performance\n",
    "print(Model_Performance)\n",
    "     "
   ]
  },
  {
   "cell_type": "markdown",
   "metadata": {},
   "source": [
    "### Conclusions"
   ]
  },
  {
   "cell_type": "markdown",
   "metadata": {},
   "source": [
    "- From the Validation/Test accuracy scores,we can find that model 1 has performed slighly better than model 3\n",
    "- Model 2 took the longest for training as compared to Model 1 and Model 3\n",
    "- Model 3 took the least amount of time to train"
   ]
  }
 ],
 "metadata": {
  "colab": {
   "collapsed_sections": [],
   "name": "CNN_MNIST.ipynb",
   "provenance": [],
   "version": "0.3.2"
  },
  "kernelspec": {
   "display_name": "Python 3",
   "language": "python",
   "name": "python3"
  },
  "language_info": {
   "codemirror_mode": {
    "name": "ipython",
    "version": 3
   },
   "file_extension": ".py",
   "mimetype": "text/x-python",
   "name": "python",
   "nbconvert_exporter": "python",
   "pygments_lexer": "ipython3",
   "version": "3.6.8"
  }
 },
 "nbformat": 4,
 "nbformat_minor": 1
}
